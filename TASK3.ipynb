{
  "nbformat": 4,
  "nbformat_minor": 0,
  "metadata": {
    "colab": {
      "provenance": [],
      "mount_file_id": "11GmBT68M-sQb6g5v6bZAyalBqaSifvyh",
      "authorship_tag": "ABX9TyPk4T9IGHcXGtY5vyUzqyOP",
      "include_colab_link": true
    },
    "kernelspec": {
      "name": "python3",
      "display_name": "Python 3"
    },
    "language_info": {
      "name": "python"
    }
  },
  "cells": [
    {
      "cell_type": "markdown",
      "metadata": {
        "id": "view-in-github",
        "colab_type": "text"
      },
      "source": [
        "<a href=\"https://colab.research.google.com/github/DRVAmarnath2004/prodigy-infotech/blob/main/TASK3.ipynb\" target=\"_parent\"><img src=\"https://colab.research.google.com/assets/colab-badge.svg\" alt=\"Open In Colab\"/></a>"
      ]
    },
    {
      "cell_type": "code",
      "execution_count": null,
      "metadata": {
        "id": "6fPLxO0o0bwA"
      },
      "outputs": [],
      "source": [
        "import pandas as pd\n",
        "import numpy as np\n",
        "import tensorflow as tf\n",
        "\n",
        "import warnings\n",
        "warnings.filterwarnings('ignore')"
      ]
    },
    {
      "cell_type": "code",
      "source": [
        "from tensorflow.compat.v1 import ConfigProto\n",
        "from tensorflow.compat.v1 import InteractiveSession\n",
        "\n",
        "config = ConfigProto()\n",
        "config.gpu_options.per_process_gpu_memory_fraction = 0.6\n",
        "config.gpu_options.allow_growth = True\n",
        "session = InteractiveSession(config=config)"
      ],
      "metadata": {
        "id": "hFk4GDbO95UH"
      },
      "execution_count": null,
      "outputs": []
    },
    {
      "cell_type": "code",
      "source": [
        "import os\n",
        "import zipfile\n",
        "from tensorflow.keras.preprocessing.image import ImageDataGenerator\n",
        "\n",
        "# Path to the zip file and extraction directory\n",
        "zip_path = '/content/drive/MyDrive/training_set.zip'\n",
        "extracted_dir_path = '/content/training_set'\n",
        "\n",
        "# Unzip the dataset\n",
        "with zipfile.ZipFile(zip_path, 'r') as zip_ref:\n",
        "    zip_ref.extractall(extracted_dir_path)\n",
        "\n",
        "# Create an ImageDataGenerator object\n",
        "datagen = ImageDataGenerator(\n",
        "    rescale=1./255,\n",
        "    shear_range=0.2,\n",
        "    zoom_range=0.2,\n",
        "    horizontal_flip=True,\n",
        "    validation_split=0.2  # Use 20% of data for validation\n",
        ")\n",
        "\n",
        "# Load training and validation sets\n",
        "training_set = datagen.flow_from_directory(\n",
        "    extracted_dir_path,\n",
        "    target_size=(64, 64),\n",
        "    batch_size=32,\n",
        "    class_mode='categorical',\n",
        "    subset='training'  # Set as training data\n",
        ")\n",
        "\n",
        "validation_set = datagen.flow_from_directory(\n",
        "    extracted_dir_path,\n",
        "    target_size=(64, 64),\n",
        "    batch_size=32,\n",
        "    class_mode='categorical',\n",
        "    subset='validation'  # Set as validation data\n",
        ")\n"
      ],
      "metadata": {
        "colab": {
          "base_uri": "https://localhost:8080/"
        },
        "id": "UEYJREm_99-f",
        "outputId": "6cf1f09d-11b1-4d4c-8e95-ee9285894dff"
      },
      "execution_count": null,
      "outputs": [
        {
          "output_type": "stream",
          "name": "stdout",
          "text": [
            "Found 6404 images belonging to 1 classes.\n",
            "Found 1601 images belonging to 1 classes.\n"
          ]
        }
      ]
    },
    {
      "cell_type": "code",
      "source": [
        "import os\n",
        "import zipfile\n",
        "from tensorflow.keras.preprocessing.image import ImageDataGenerator\n",
        "\n",
        "# Paths to the zip files and extraction directories\n",
        "train_zip_path = '/content/drive/MyDrive/training_set.zip'\n",
        "test_zip_path = '/content/drive/MyDrive/test_set.zip'\n",
        "train_dir_path = '/content/training_set'\n",
        "test_dir_path = '/content/test_set'\n",
        "\n",
        "# Unzip the training set\n",
        "with zipfile.ZipFile(train_zip_path, 'r') as zip_ref:\n",
        "    zip_ref.extractall(train_dir_path)\n",
        "\n",
        "# Unzip the test set\n",
        "with zipfile.ZipFile(test_zip_path, 'r') as zip_ref:\n",
        "    zip_ref.extractall(test_dir_path)\n",
        "\n",
        "# Create an ImageDataGenerator object\n",
        "datagen = ImageDataGenerator(\n",
        "    rescale=1./255,\n",
        "    shear_range=0.2,\n",
        "    zoom_range=0.2,\n",
        "    horizontal_flip=True,\n",
        "    validation_split=0.2  # Use 20% of data for validation\n",
        ")\n",
        "\n",
        "# Load training and validation sets\n",
        "training_set = datagen.flow_from_directory(\n",
        "    train_dir_path,\n",
        "    target_size=(64, 64),\n",
        "    batch_size=32,\n",
        "    class_mode='categorical',\n",
        "    subset='training'  # Set as training data\n",
        ")\n",
        "\n",
        "validation_set = datagen.flow_from_directory(\n",
        "    train_dir_path,\n",
        "    target_size=(64, 64),\n",
        "    batch_size=32,\n",
        "    class_mode='categorical',\n",
        "    subset='validation'  # Set as validation data\n",
        ")\n"
      ],
      "metadata": {
        "colab": {
          "base_uri": "https://localhost:8080/"
        },
        "id": "CzN_3YDT-ddn",
        "outputId": "808c482b-dcfb-4b7f-bb9e-7ebc1323db42"
      },
      "execution_count": null,
      "outputs": [
        {
          "output_type": "stream",
          "name": "stdout",
          "text": [
            "Found 6404 images belonging to 1 classes.\n",
            "Found 1601 images belonging to 1 classes.\n"
          ]
        }
      ]
    },
    {
      "cell_type": "code",
      "source": [
        "# Create an ImageDataGenerator object for the test set\n",
        "datagen_test = ImageDataGenerator(rescale=1./255)\n",
        "\n",
        "# Load the test set\n",
        "test_set = datagen_test.flow_from_directory(\n",
        "    test_dir_path,\n",
        "    target_size=(64, 64),\n",
        "    batch_size=32,\n",
        "    class_mode='categorical'\n",
        ")\n"
      ],
      "metadata": {
        "colab": {
          "base_uri": "https://localhost:8080/"
        },
        "id": "kHd0jM6x-3u-",
        "outputId": "15b43086-6826-4b6a-ffee-2f8705c6f238"
      },
      "execution_count": null,
      "outputs": [
        {
          "output_type": "stream",
          "name": "stdout",
          "text": [
            "Found 2023 images belonging to 1 classes.\n"
          ]
        }
      ]
    },
    {
      "cell_type": "code",
      "source": [
        "from tensorflow.keras.layers import Conv2D\n",
        "from tensorflow.keras.layers import Dense"
      ],
      "metadata": {
        "id": "wAq3N6ZP-9Iq"
      },
      "execution_count": null,
      "outputs": []
    },
    {
      "cell_type": "code",
      "source": [
        "from tensorflow.keras.regularizers import l2"
      ],
      "metadata": {
        "id": "TiARu-Sg_CS_"
      },
      "execution_count": null,
      "outputs": []
    },
    {
      "cell_type": "code",
      "source": [
        "cnn = tf.keras.models.Sequential()"
      ],
      "metadata": {
        "id": "ycNPJimG_KNc"
      },
      "execution_count": null,
      "outputs": []
    },
    {
      "cell_type": "code",
      "source": [
        "cnn.add(tf.keras.layers.Conv2D(filters=32,padding=\"same\",kernel_size=3, activation='relu', strides=2, input_shape=[64, 64, 3]))"
      ],
      "metadata": {
        "id": "NIQI1oIl_NRX"
      },
      "execution_count": null,
      "outputs": []
    },
    {
      "cell_type": "code",
      "source": [
        "cnn.add(tf.keras.layers.MaxPool2D(pool_size=2, strides=2))"
      ],
      "metadata": {
        "id": "gK1aVwYC_Sir"
      },
      "execution_count": null,
      "outputs": []
    },
    {
      "cell_type": "code",
      "source": [
        "cnn.add(tf.keras.layers.Conv2D(filters=32,padding='same',kernel_size=3, activation='relu'))\n",
        "cnn.add(tf.keras.layers.MaxPool2D(pool_size=2, strides=2))"
      ],
      "metadata": {
        "id": "57l1FMm2_Y1n"
      },
      "execution_count": null,
      "outputs": []
    },
    {
      "cell_type": "code",
      "source": [
        "cnn.add(tf.keras.layers.Flatten())"
      ],
      "metadata": {
        "id": "8jEmhi4H_bFJ"
      },
      "execution_count": null,
      "outputs": []
    },
    {
      "cell_type": "code",
      "source": [
        "cnn.add(tf.keras.layers.Dense(units=128, activation='relu'))"
      ],
      "metadata": {
        "id": "iP96lmhX_hBf"
      },
      "execution_count": null,
      "outputs": []
    },
    {
      "cell_type": "code",
      "source": [
        "cnn.add(Dense(1, kernel_regularizer=tf.keras.regularizers.l2(0.01),activation\n",
        "             ='linear'))"
      ],
      "metadata": {
        "id": "5TLd6_Db_i_a"
      },
      "execution_count": null,
      "outputs": []
    },
    {
      "cell_type": "code",
      "source": [
        "cnn.summary()"
      ],
      "metadata": {
        "colab": {
          "base_uri": "https://localhost:8080/"
        },
        "id": "ZsDheEbH_m5w",
        "outputId": "84bb0f3a-29e8-4703-b6e3-8ee3a20ecbfd"
      },
      "execution_count": null,
      "outputs": [
        {
          "output_type": "stream",
          "name": "stdout",
          "text": [
            "Model: \"sequential\"\n",
            "_________________________________________________________________\n",
            " Layer (type)                Output Shape              Param #   \n",
            "=================================================================\n",
            " conv2d (Conv2D)             (None, 32, 32, 32)        896       \n",
            "                                                                 \n",
            " max_pooling2d (MaxPooling2  (None, 16, 16, 32)        0         \n",
            " D)                                                              \n",
            "                                                                 \n",
            " conv2d_1 (Conv2D)           (None, 16, 16, 32)        9248      \n",
            "                                                                 \n",
            " max_pooling2d_1 (MaxPoolin  (None, 8, 8, 32)          0         \n",
            " g2D)                                                            \n",
            "                                                                 \n",
            " flatten (Flatten)           (None, 2048)              0         \n",
            "                                                                 \n",
            " dense (Dense)               (None, 128)               262272    \n",
            "                                                                 \n",
            " dense_1 (Dense)             (None, 1)                 129       \n",
            "                                                                 \n",
            "=================================================================\n",
            "Total params: 272545 (1.04 MB)\n",
            "Trainable params: 272545 (1.04 MB)\n",
            "Non-trainable params: 0 (0.00 Byte)\n",
            "_________________________________________________________________\n"
          ]
        }
      ]
    },
    {
      "cell_type": "code",
      "source": [
        "cnn.compile(optimizer = 'adam', loss = 'hinge', metrics = ['accuracy'])"
      ],
      "metadata": {
        "id": "_EZ7GW36_rI8"
      },
      "execution_count": null,
      "outputs": []
    },
    {
      "cell_type": "code",
      "source": [
        "r=cnn.fit(x = training_set, validation_data = test_set, epochs = 15)"
      ],
      "metadata": {
        "colab": {
          "base_uri": "https://localhost:8080/"
        },
        "id": "Xc0lQYp4_vsd",
        "outputId": "b12a5f77-39aa-4d2b-acb9-31ed33221ae5"
      },
      "execution_count": null,
      "outputs": [
        {
          "output_type": "stream",
          "name": "stdout",
          "text": [
            "Epoch 1/15\n",
            "201/201 [==============================] - 29s 140ms/step - loss: 0.0158 - accuracy: 0.9950 - val_loss: 0.0053 - val_accuracy: 1.0000\n",
            "Epoch 2/15\n",
            "201/201 [==============================] - 28s 138ms/step - loss: 0.0030 - accuracy: 1.0000 - val_loss: 0.0015 - val_accuracy: 1.0000\n",
            "Epoch 3/15\n",
            "201/201 [==============================] - 27s 137ms/step - loss: 8.6154e-04 - accuracy: 1.0000 - val_loss: 4.2210e-04 - val_accuracy: 1.0000\n",
            "Epoch 4/15\n",
            "201/201 [==============================] - 28s 142ms/step - loss: 3.0750e-04 - accuracy: 1.0000 - val_loss: 1.6622e-04 - val_accuracy: 1.0000\n",
            "Epoch 5/15\n",
            "201/201 [==============================] - 28s 140ms/step - loss: 1.3026e-04 - accuracy: 1.0000 - val_loss: 2.6443e-04 - val_accuracy: 1.0000\n",
            "Epoch 6/15\n",
            "201/201 [==============================] - 28s 140ms/step - loss: 1.2500e-04 - accuracy: 1.0000 - val_loss: 4.3188e-05 - val_accuracy: 1.0000\n",
            "Epoch 7/15\n",
            "201/201 [==============================] - 28s 140ms/step - loss: 9.0874e-05 - accuracy: 1.0000 - val_loss: 2.7751e-04 - val_accuracy: 1.0000\n",
            "Epoch 8/15\n",
            "201/201 [==============================] - 28s 139ms/step - loss: 1.4414e-04 - accuracy: 1.0000 - val_loss: 6.1512e-05 - val_accuracy: 1.0000\n",
            "Epoch 9/15\n",
            "201/201 [==============================] - 27s 132ms/step - loss: 3.2072e-05 - accuracy: 1.0000 - val_loss: 1.3860e-05 - val_accuracy: 1.0000\n",
            "Epoch 10/15\n",
            "201/201 [==============================] - 28s 139ms/step - loss: 7.2009e-06 - accuracy: 1.0000 - val_loss: 3.0565e-06 - val_accuracy: 1.0000\n",
            "Epoch 11/15\n",
            "201/201 [==============================] - 28s 140ms/step - loss: 7.4114e-05 - accuracy: 1.0000 - val_loss: 4.6242e-04 - val_accuracy: 1.0000\n",
            "Epoch 12/15\n",
            "201/201 [==============================] - 28s 141ms/step - loss: 3.6104e-04 - accuracy: 1.0000 - val_loss: 2.7142e-04 - val_accuracy: 1.0000\n",
            "Epoch 13/15\n",
            "201/201 [==============================] - 27s 134ms/step - loss: 2.0844e-04 - accuracy: 1.0000 - val_loss: 1.5529e-04 - val_accuracy: 1.0000\n",
            "Epoch 14/15\n",
            "201/201 [==============================] - 27s 135ms/step - loss: 1.1794e-04 - accuracy: 1.0000 - val_loss: 8.6617e-05 - val_accuracy: 1.0000\n",
            "Epoch 15/15\n",
            "201/201 [==============================] - 29s 143ms/step - loss: 6.5098e-05 - accuracy: 1.0000 - val_loss: 4.6979e-05 - val_accuracy: 1.0000\n"
          ]
        }
      ]
    },
    {
      "cell_type": "code",
      "source": [
        "# plot the loss\n",
        "import matplotlib.pyplot as plt\n",
        "plt.plot(r.history['loss'], label='train loss')\n",
        "plt.plot(r.history['val_loss'], label='val loss')\n",
        "plt.legend()\n",
        "plt.show()\n",
        "\n",
        "# plot the accuracy\n",
        "plt.plot(r.history['accuracy'], label='train acc')\n",
        "plt.plot(r.history['val_accuracy'], label='val acc')\n",
        "plt.legend()\n",
        "plt.show()"
      ],
      "metadata": {
        "colab": {
          "base_uri": "https://localhost:8080/",
          "height": 843
        },
        "id": "ZU_ak3P4BlqB",
        "outputId": "cb2283a5-1577-4602-dc43-38ce0df52178"
      },
      "execution_count": null,
      "outputs": [
        {
          "output_type": "display_data",
          "data": {
            "text/plain": [
              "<Figure size 640x480 with 1 Axes>"
            ],
            "image/png": "[encoded data removed]"
          },
          "metadata": {}
        },
        {
          "output_type": "display_data",
          "data": {
            "text/plain": [
              "<Figure size 640x480 with 1 Axes>"
            ],
            "image/png": "[encoded data removed]"
          },
          "metadata": {}
        }
      ]
    },
    {
      "cell_type": "code",
      "source": [
        "from tensorflow.keras.models import load_model\n",
        "\n",
        "cnn.save('./model_rcat_dog.h5')"
      ],
      "metadata": {
        "id": "_TCsyv59BsW1"
      },
      "execution_count": null,
      "outputs": []
    },
    {
      "cell_type": "code",
      "source": [
        "import zipfile\n",
        "\n",
        "# Path to the zip file and extraction directory\n",
        "train_zip_path = '/content/drive/MyDrive/training_set.zip'\n",
        "train_dir_path = '/content/training_set'\n",
        "\n",
        "# Unzip the training set\n",
        "with zipfile.ZipFile(train_zip_path, 'r') as zip_ref:\n",
        "    zip_ref.extractall(train_dir_path)\n",
        "\n"
      ],
      "metadata": {
        "id": "uOvgBh_YCe7K"
      },
      "execution_count": 41,
      "outputs": []
    },
    {
      "cell_type": "code",
      "source": [
        "import os\n",
        "\n",
        "# List the contents of the extracted training directory\n",
        "for root, dirs, files in os.walk(train_dir_path):\n",
        "    print(\"Root:\", root)\n",
        "    print(\"Directories:\", dirs)\n",
        "    print(\"Files:\", files[:10])  # Print only the first 10 files in each directory for brevity\n"
      ],
      "metadata": {
        "colab": {
          "base_uri": "https://localhost:8080/"
        },
        "id": "KFo3XAkdCyV0",
        "outputId": "2f3bccef-6694-4c4e-84b6-5fd337c7ca95"
      },
      "execution_count": 42,
      "outputs": [
        {
          "output_type": "stream",
          "name": "stdout",
          "text": [
            "Root: /content/training_set\n",
            "Directories: ['training_set']\n",
            "Files: []\n",
            "Root: /content/training_set/training_set\n",
            "Directories: ['dogs', 'cats']\n",
            "Files: []\n",
            "Root: /content/training_set/training_set/dogs\n",
            "Directories: []\n",
            "Files: ['dog.3349.jpg', 'dog.3011.jpg', 'dog.1573.jpg', 'dog.1187.jpg', 'dog.3116.jpg', 'dog.1334.jpg', 'dog.173.jpg', 'dog.1954.jpg', 'dog.1081.jpg', 'dog.2159.jpg']\n",
            "Root: /content/training_set/training_set/cats\n",
            "Directories: []\n",
            "Files: ['cat.3088.jpg', 'cat.3197.jpg', 'cat.63.jpg', 'cat.1805.jpg', 'cat.1952.jpg', 'cat.2249.jpg', 'cat.1182.jpg', 'cat.3054.jpg', 'cat.1610.jpg', 'cat.1773.jpg']\n"
          ]
        }
      ]
    },
    {
      "cell_type": "code",
      "source": [
        "from tensorflow.keras.preprocessing import image\n",
        "import numpy as np\n",
        "\n",
        "# Assuming the correct path is found in the directory listing\n",
        "test_image_path = '/content/training_set/training_set/dogs/dog.1023.jpg'  # Update this path based on the actual structure\n",
        "\n",
        "# Load and preprocess the image\n",
        "test_image = image.load_img(test_image_path, target_size=(64, 64))\n",
        "test_image = image.img_to_array(test_image)\n",
        "test_image = test_image / 255.0\n",
        "test_image = np.expand_dims(test_image, axis=0)\n",
        "\n",
        "# Assuming you have a trained model called `model`\n",
        "# prediction = model.predict(test_image)\n",
        "# print(prediction)\n",
        "result = cnn.predict(test_image)\n",
        "\n"
      ],
      "metadata": {
        "id": "nobyyKCzC2g4",
        "colab": {
          "base_uri": "https://localhost:8080/"
        },
        "outputId": "3b6bd9be-1c95-4e52-ad8c-a2589734db98"
      },
      "execution_count": 43,
      "outputs": [
        {
          "output_type": "stream",
          "name": "stdout",
          "text": [
            "1/1 [==============================] - 0s 24ms/step\n"
          ]
        }
      ]
    },
    {
      "cell_type": "code",
      "source": [
        "if result[0]<0:\n",
        "    print(\"The image classified is cat\")\n",
        "else:\n",
        "    print(\"The image classified is dog\")"
      ],
      "metadata": {
        "colab": {
          "base_uri": "https://localhost:8080/"
        },
        "id": "x_nzadAkFHdy",
        "outputId": "7534a3c7-e3e7-4f51-f8f4-89ab34433d5d"
      },
      "execution_count": 44,
      "outputs": [
        {
          "output_type": "stream",
          "name": "stdout",
          "text": [
            "The image classified is dog\n"
          ]
        }
      ]
    }
  ]
}